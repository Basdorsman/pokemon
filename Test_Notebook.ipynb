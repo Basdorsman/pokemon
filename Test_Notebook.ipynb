{
 "cells": [
  {
   "cell_type": "code",
   "execution_count": 1,
   "id": "62248db6",
   "metadata": {},
   "outputs": [],
   "source": [
    "from itertools import combinations\n",
    "from pokemon_effectiveness import pokemon\n",
    "import matplotlib.pyplot as plt\n",
    "\n",
    "pkmn=pokemon()"
   ]
  },
  {
   "cell_type": "code",
   "execution_count": 2,
   "id": "8953ac44",
   "metadata": {},
   "outputs": [
    {
     "data": {
      "image/png": "[encoded data removed]",
      "text/plain": [
       "<Figure size 432x288 with 1 Axes>"
      ]
     },
     "metadata": {
      "needs_background": "light"
     },
     "output_type": "display_data"
    }
   ],
   "source": [
    "################## Offensive stuff ###################\n",
    "#myTypes=['flying','dragon','fire','ground','rock','water','ghost','dark','fighting'] #salamence\n",
    "#myTypes=['electric','dark','fire','ice','fighting','steel'] #Luxraypkmn.typeNames\n",
    "myTypes=['water','ground','ice','rock','poison']\n",
    "multiTypeDicts, multiTypeLenghts = pkmn.getMultiOffenseEff(pkmn.typeNames,4)    \n",
    "plt.hist(multiTypeLenghts)\n",
    "multiTypeDicts=sorted(multiTypeDicts.items(),key=lambda k_v: k_v[1]['length'],reverse=True)"
   ]
  },
  {
   "cell_type": "code",
   "execution_count": 3,
   "id": "ca2ed3fe",
   "metadata": {},
   "outputs": [
    {
     "data": {
      "image/png": "[encoded data removed]",
      "text/plain": [
       "<Figure size 432x288 with 1 Axes>"
      ]
     },
     "metadata": {
      "needs_background": "light"
     },
     "output_type": "display_data"
    }
   ],
   "source": [
    "################### Defensive stuff ##################\n",
    "typeNames = pkmn.typeNames\n",
    "\n",
    "defenseEffScore={}\n",
    "for dualType in list(combinations(typeNames, 2)):\n",
    "    defenseEffDual = pkmn.combineEff(dualType)\n",
    "    dualTypeString=' '.join(list(dualType))\n",
    "    defenseEffScore[dualTypeString]=0\n",
    "    for multiplier in defenseEffDual:\n",
    "        defenseEffScore[dualTypeString]+=float(multiplier)*len(defenseEffDual[multiplier])\n",
    "\n",
    "for singleType in typeNames:\n",
    "    defenseEff = pkmn.getDefenseEff(singleType)\n",
    "    defenseEffScore[singleType]=0\n",
    "    for multiplier in defenseEff:\n",
    "        defenseEffScore[singleType]+=float(multiplier)*len(defenseEff[multiplier])\n",
    "\n",
    "defenseEffScoreList = []\n",
    "for key in defenseEffScore:\n",
    "    defenseEffScoreList.append(defenseEffScore[key])\n",
    "\n",
    "fig, ax = plt.subplots()\n",
    "ax.set_xlabel('score = sum defensive effectiveness for all types')\n",
    "ax.set_ylabel('N (dual) typings per score')\n",
    "ax.hist(defenseEffScoreList,bins=20)\n",
    "plt.show()"
   ]
  },
  {
   "cell_type": "code",
   "execution_count": 5,
   "id": "40a7ae70",
   "metadata": {},
   "outputs": [
    {
     "name": "stdout",
     "output_type": "stream",
     "text": [
      "[('steel fairy', 13.25), ('flying steel', 13.5), ('ghost steel', 14.25), ('steel dragon', 14.25), ('steel water', 14.5), ('normal ghost', 15.0), ('steel', 15.0), ('fighting steel', 15.5), ('ghost dark', 15.5), ('poison steel', 15.75), ('ground steel', 15.75), ('bug steel', 15.75), ('normal steel', 16.0), ('poison dark', 16.0), ('steel electric', 16.0), ('ghost fairy', 16.25), ('steel fire', 16.25), ('steel grass', 16.25), ('steel psychic', 16.25), ('flying electric', 16.5), ('ghost electric', 16.5), ('steel dark', 16.5), ('electric fairy', 16.5), ('normal poison', 17.0), ('normal fairy', 17.0), ('poison water', 17.0), ('poison fairy', 17.0), ('ghost water', 17.0), ('water fairy', 17.0), ('ghost', 17.0), ('ghost fire', 17.25), ('fire fairy', 17.25), ('water electric', 17.25), ('normal electric', 17.5), ('poison ghost', 17.5), ('dragon fairy', 17.5), ('poison', 17.5), ('electric', 17.5), ('fairy', 17.5), ('flying poison', 17.75), ('fire water', 17.75), ('dark fairy', 17.75), ('normal flying', 18.0), ('normal fire', 18.0), ('normal water', 18.0), ('poison electric', 18.0), ('ground water', 18.0), ('ground fairy', 18.0), ('bug electric', 18.0), ('ghost dragon', 18.0), ('fire dragon', 18.0), ('fire dark', 18.0), ('water dragon', 18.0), ('normal', 18.0), ('fire', 18.0), ('water', 18.0), ('fighting ghost', 18.25), ('flying ghost', 18.25), ('poison ground', 18.25), ('poison dragon', 18.25), ('ground ghost', 18.25), ('normal psychic', 18.5), ('fighting electric', 18.5), ('flying ground', 18.5), ('flying fire', 18.5), ('flying water', 18.5), ('flying dark', 18.5), ('flying fairy', 18.5), ('ground fire', 18.5), ('bug water', 18.5), ('electric dark', 18.5), ('flying', 18.5), ('fighting fire', 18.75), ('poison psychic', 18.75), ('fire grass', 18.75), ('fire electric', 18.75), ('electric dragon', 18.75), ('psychic fairy', 18.75), ('normal ground', 19.0), ('normal bug', 19.0), ('normal dragon', 19.0), ('poison bug', 19.0), ('ground electric', 19.0), ('bug ghost', 19.0), ('ghost grass', 19.0), ('water dark', 19.0), ('ground', 19.0), ('dragon', 19.0), ('dark', 19.0), ('poison fire', 19.25), ('poison grass', 19.25), ('bug fairy', 19.25), ('water grass', 19.25), ('normal fighting', 19.5), ('fighting water', 19.5), ('fighting fairy', 19.5), ('flying rock', 19.5), ('ground bug', 19.5), ('rock steel', 19.5), ('ghost ice', 19.5), ('fire psychic', 19.5), ('electric psychic', 19.5), ('fighting', 19.5), ('bug', 19.5), ('fighting flying', 19.75), ('fighting poison', 19.75), ('rock ghost', 19.75), ('bug fire', 19.75), ('steel ice', 19.75), ('grass electric', 19.75), ('fighting psychic', 20.0), ('ground dark', 20.0), ('rock bug', 20.0), ('bug dark', 20.0), ('water psychic', 20.0), ('psychic', 20.0), ('fighting dark', 20.25), ('flying psychic', 20.25), ('flying dragon', 20.25), ('bug dragon', 20.25), ('normal dark', 20.5), ('poison ice', 20.5), ('ground dragon', 20.5), ('rock fairy', 20.5), ('electric ice', 20.5), ('fighting ground', 20.75), ('poison rock', 20.75), ('water ice', 20.75), ('normal grass', 21.0), ('ground psychic', 21.0), ('rock grass', 21.0), ('ghost psychic', 21.0), ('grass fairy', 21.0), ('psychic dragon', 21.0), ('psychic dark', 21.0), ('dragon dark', 21.0), ('rock', 21.0), ('grass', 21.0), ('rock water', 21.25), ('rock electric', 21.25), ('rock dragon', 21.25), ('fighting bug', 21.5), ('fighting dragon', 21.5), ('ground ice', 21.5), ('ice dragon', 21.5), ('ice fairy', 21.5), ('ice', 21.5), ('bug psychic', 21.75), ('fire ice', 21.75), ('normal rock', 22.0), ('fighting rock', 22.0), ('flying bug', 22.0), ('flying ice', 22.0), ('ground grass', 22.0), ('flying grass', 22.25), ('rock fire', 22.25), ('normal ice', 22.5), ('fighting ice', 22.5), ('rock psychic', 22.5), ('fighting grass', 23.0), ('rock dark', 23.0), ('grass dark', 23.0), ('psychic ice', 23.0), ('grass dragon', 23.25), ('ice dark', 23.5), ('grass psychic', 24.0), ('ground rock', 24.25), ('bug ice', 24.5), ('bug grass', 25.0), ('grass ice', 25.0), ('rock ice', 26.0)]\n"
     ]
    }
   ],
   "source": [
    "effDictByType = pkmn.getEffDictByType()\n",
    "\n",
    "defenseEffScore={}\n",
    "for dualType in list(combinations(typeNames, 2)):\n",
    "    defenseEffDual = pkmn.combineEffByType(dualType, effDictByType=effDictByType)\n",
    "    dualTypeString=' '.join(list(dualType))\n",
    "    defenseEffScore[dualTypeString]=pkmn.getEffScore(defenseEffDual)\n",
    "\n",
    "for singleType in typeNames:\n",
    "    defenseEff = pkmn.getDefenseEffByType(singleType)\n",
    "    defenseEffScore[singleType]=0\n",
    "    defenseEffScore[singleType]=pkmn.getEffScore(defenseEff)\n",
    "\n",
    "defenseEffScore=sorted(defenseEffScore.items(),key=lambda k_v: k_v[1])\n",
    "print(defenseEffScore)"
   ]
  },
  {
   "cell_type": "code",
   "execution_count": null,
   "id": "243ed237",
   "metadata": {},
   "outputs": [],
   "source": []
  }
 ],
 "metadata": {
  "kernelspec": {
   "display_name": "pokernel",
   "language": "python",
   "name": "pokernel"
  },
  "language_info": {
   "codemirror_mode": {
    "name": "ipython",
    "version": 3
   },
   "file_extension": ".py",
   "mimetype": "text/x-python",
   "name": "python",
   "nbconvert_exporter": "python",
   "pygments_lexer": "ipython3",
   "version": "3.9.7"
  }
 },
 "nbformat": 4,
 "nbformat_minor": 5
}
